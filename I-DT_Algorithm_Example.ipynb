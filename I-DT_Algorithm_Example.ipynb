{
 "cells": [
  {
   "cell_type": "code",
   "execution_count": 1,
   "id": "e4d9182e",
   "metadata": {
    "ExecuteTime": {
     "end_time": "2022-09-08T16:41:41.535317Z",
     "start_time": "2022-09-08T16:41:40.829681Z"
    }
   },
   "outputs": [],
   "source": [
    "import numpy as np\n",
    "import pandas as pd\n",
    "import numba as nb\n",
    "import matplotlib.pyplot as plt\n",
    "import time\n",
    "\n",
    "from IDT_alg_VR_centred import IDTVR"
   ]
  },
  {
   "cell_type": "code",
   "execution_count": 2,
   "id": "1ce5fd21",
   "metadata": {},
   "outputs": [
    {
     "data": {
      "text/plain": [
       "'0.56.3'"
      ]
     },
     "execution_count": 2,
     "metadata": {},
     "output_type": "execute_result"
    }
   ],
   "source": [
    "nb.__version__"
   ]
  },
  {
   "cell_type": "code",
   "execution_count": 3,
   "id": "1789951c",
   "metadata": {
    "ExecuteTime": {
     "end_time": "2022-09-08T16:41:41.566026Z",
     "start_time": "2022-09-08T16:41:41.537320Z"
    }
   },
   "outputs": [
    {
     "name": "stdout",
     "output_type": "stream",
     "text": [
      "Shape (2574, 16)\n",
      "Columns Index(['elapsedTime', 'nombre', 'et_x', 'et_y', 'et_z', 'et_pixel_uv_x',\n",
      "       'et_pixel_uv_y', 'head_pose_x', 'head_pose_y', 'head_pose_z',\n",
      "       'head_euler_x', 'head_euler_y', 'head_euler_z', 'head_quat_xyzw',\n",
      "       'Eye_Right_Blink', 'Eye_Left_Blink'],\n",
      "      dtype='object')\n"
     ]
    },
    {
     "data": {
      "text/html": [
       "<div>\n",
       "<style scoped>\n",
       "    .dataframe tbody tr th:only-of-type {\n",
       "        vertical-align: middle;\n",
       "    }\n",
       "\n",
       "    .dataframe tbody tr th {\n",
       "        vertical-align: top;\n",
       "    }\n",
       "\n",
       "    .dataframe thead th {\n",
       "        text-align: right;\n",
       "    }\n",
       "</style>\n",
       "<table border=\"1\" class=\"dataframe\">\n",
       "  <thead>\n",
       "    <tr style=\"text-align: right;\">\n",
       "      <th></th>\n",
       "      <th>elapsedTime</th>\n",
       "      <th>nombre</th>\n",
       "      <th>et_x</th>\n",
       "      <th>et_y</th>\n",
       "      <th>et_z</th>\n",
       "      <th>et_pixel_uv_x</th>\n",
       "      <th>et_pixel_uv_y</th>\n",
       "      <th>head_pose_x</th>\n",
       "      <th>head_pose_y</th>\n",
       "      <th>head_pose_z</th>\n",
       "      <th>head_euler_x</th>\n",
       "      <th>head_euler_y</th>\n",
       "      <th>head_euler_z</th>\n",
       "      <th>head_quat_xyzw</th>\n",
       "      <th>Eye_Right_Blink</th>\n",
       "      <th>Eye_Left_Blink</th>\n",
       "    </tr>\n",
       "  </thead>\n",
       "  <tbody>\n",
       "    <tr>\n",
       "      <th>0</th>\n",
       "      <td>0.023</td>\n",
       "      <td>Scene/Paneles_Numericos/EPVR_Ele_CuboConLuces/...</td>\n",
       "      <td>-2.969</td>\n",
       "      <td>1.5818</td>\n",
       "      <td>-1.1777</td>\n",
       "      <td>0.578985</td>\n",
       "      <td>0.600461</td>\n",
       "      <td>-0.4149</td>\n",
       "      <td>1.6291</td>\n",
       "      <td>-1.2984</td>\n",
       "      <td>5.9192</td>\n",
       "      <td>269.0828</td>\n",
       "      <td>0.8249</td>\n",
       "      <td>(.0311, -.7120, .0418, .7002)</td>\n",
       "      <td>0.0</td>\n",
       "      <td>0.0</td>\n",
       "    </tr>\n",
       "    <tr>\n",
       "      <th>1</th>\n",
       "      <td>0.034</td>\n",
       "      <td>Scene/Paneles_Numericos/EPVR_Ele_CuboConLuces/...</td>\n",
       "      <td>-2.969</td>\n",
       "      <td>1.5823</td>\n",
       "      <td>-1.1784</td>\n",
       "      <td>0.578571</td>\n",
       "      <td>0.600723</td>\n",
       "      <td>-0.4151</td>\n",
       "      <td>1.6289</td>\n",
       "      <td>-1.2984</td>\n",
       "      <td>5.9479</td>\n",
       "      <td>269.0463</td>\n",
       "      <td>0.8471</td>\n",
       "      <td>(.0311, -.7123, .0422, .7000)</td>\n",
       "      <td>0.0</td>\n",
       "      <td>0.0</td>\n",
       "    </tr>\n",
       "    <tr>\n",
       "      <th>2</th>\n",
       "      <td>0.048</td>\n",
       "      <td>Scene/Paneles_Numericos/EPVR_Ele_CuboConLuces/...</td>\n",
       "      <td>-2.969</td>\n",
       "      <td>1.5816</td>\n",
       "      <td>-1.1777</td>\n",
       "      <td>0.579005</td>\n",
       "      <td>0.600349</td>\n",
       "      <td>-0.4153</td>\n",
       "      <td>1.6288</td>\n",
       "      <td>-1.2984</td>\n",
       "      <td>5.9778</td>\n",
       "      <td>269.0420</td>\n",
       "      <td>0.8650</td>\n",
       "      <td>(.0312, -.7123, .0425, .6999)</td>\n",
       "      <td>0.0</td>\n",
       "      <td>0.0</td>\n",
       "    </tr>\n",
       "    <tr>\n",
       "      <th>3</th>\n",
       "      <td>0.070</td>\n",
       "      <td>Scene/Paneles_Numericos/EPVR_Ele_CuboConLuces/...</td>\n",
       "      <td>-2.969</td>\n",
       "      <td>1.5798</td>\n",
       "      <td>-1.1786</td>\n",
       "      <td>0.578443</td>\n",
       "      <td>0.599271</td>\n",
       "      <td>-0.4156</td>\n",
       "      <td>1.6288</td>\n",
       "      <td>-1.2985</td>\n",
       "      <td>6.0055</td>\n",
       "      <td>269.0371</td>\n",
       "      <td>0.8853</td>\n",
       "      <td>(.0312, -.7123, .0428, .6999)</td>\n",
       "      <td>0.0</td>\n",
       "      <td>0.0</td>\n",
       "    </tr>\n",
       "    <tr>\n",
       "      <th>4</th>\n",
       "      <td>0.092</td>\n",
       "      <td>Scene/Paneles_Numericos/EPVR_Ele_CuboConLuces/...</td>\n",
       "      <td>-2.969</td>\n",
       "      <td>1.5815</td>\n",
       "      <td>-1.1756</td>\n",
       "      <td>0.580233</td>\n",
       "      <td>0.600255</td>\n",
       "      <td>-0.4159</td>\n",
       "      <td>1.6288</td>\n",
       "      <td>-1.2985</td>\n",
       "      <td>6.0035</td>\n",
       "      <td>269.0070</td>\n",
       "      <td>0.9309</td>\n",
       "      <td>(.0309, -.7125, .0430, .6997)</td>\n",
       "      <td>0.0</td>\n",
       "      <td>0.0</td>\n",
       "    </tr>\n",
       "    <tr>\n",
       "      <th>5</th>\n",
       "      <td>0.115</td>\n",
       "      <td>Scene/Paneles_Numericos/EPVR_Ele_CuboConLuces/...</td>\n",
       "      <td>-2.969</td>\n",
       "      <td>1.5806</td>\n",
       "      <td>-1.1767</td>\n",
       "      <td>0.579583</td>\n",
       "      <td>0.599731</td>\n",
       "      <td>-0.4162</td>\n",
       "      <td>1.6287</td>\n",
       "      <td>-1.2986</td>\n",
       "      <td>6.0344</td>\n",
       "      <td>268.9858</td>\n",
       "      <td>0.9401</td>\n",
       "      <td>(.0310, -.7126, .0433, .6995)</td>\n",
       "      <td>0.0</td>\n",
       "      <td>0.0</td>\n",
       "    </tr>\n",
       "    <tr>\n",
       "      <th>6</th>\n",
       "      <td>0.139</td>\n",
       "      <td>Scene/Paneles_Numericos/EPVR_Ele_CuboConLuces/...</td>\n",
       "      <td>-2.969</td>\n",
       "      <td>1.5845</td>\n",
       "      <td>-1.1755</td>\n",
       "      <td>0.580342</td>\n",
       "      <td>0.602077</td>\n",
       "      <td>-0.4165</td>\n",
       "      <td>1.6287</td>\n",
       "      <td>-1.2986</td>\n",
       "      <td>6.0380</td>\n",
       "      <td>268.9710</td>\n",
       "      <td>0.9319</td>\n",
       "      <td>(.0311, -.7127, .0433, .6994)</td>\n",
       "      <td>0.0</td>\n",
       "      <td>0.0</td>\n",
       "    </tr>\n",
       "    <tr>\n",
       "      <th>7</th>\n",
       "      <td>0.159</td>\n",
       "      <td>Scene/Paneles_Numericos/EPVR_Ele_CuboConLuces/...</td>\n",
       "      <td>-2.969</td>\n",
       "      <td>1.5816</td>\n",
       "      <td>-1.1776</td>\n",
       "      <td>0.579050</td>\n",
       "      <td>0.600303</td>\n",
       "      <td>-0.4166</td>\n",
       "      <td>1.6287</td>\n",
       "      <td>-1.2986</td>\n",
       "      <td>6.0123</td>\n",
       "      <td>268.9588</td>\n",
       "      <td>0.9102</td>\n",
       "      <td>(.0311, -.7128, .0430, .6994)</td>\n",
       "      <td>0.0</td>\n",
       "      <td>0.0</td>\n",
       "    </tr>\n",
       "  </tbody>\n",
       "</table>\n",
       "</div>"
      ],
      "text/plain": [
       "   elapsedTime                                             nombre   et_x  \\\n",
       "0        0.023  Scene/Paneles_Numericos/EPVR_Ele_CuboConLuces/... -2.969   \n",
       "1        0.034  Scene/Paneles_Numericos/EPVR_Ele_CuboConLuces/... -2.969   \n",
       "2        0.048  Scene/Paneles_Numericos/EPVR_Ele_CuboConLuces/... -2.969   \n",
       "3        0.070  Scene/Paneles_Numericos/EPVR_Ele_CuboConLuces/... -2.969   \n",
       "4        0.092  Scene/Paneles_Numericos/EPVR_Ele_CuboConLuces/... -2.969   \n",
       "5        0.115  Scene/Paneles_Numericos/EPVR_Ele_CuboConLuces/... -2.969   \n",
       "6        0.139  Scene/Paneles_Numericos/EPVR_Ele_CuboConLuces/... -2.969   \n",
       "7        0.159  Scene/Paneles_Numericos/EPVR_Ele_CuboConLuces/... -2.969   \n",
       "\n",
       "     et_y    et_z  et_pixel_uv_x  et_pixel_uv_y  head_pose_x  head_pose_y  \\\n",
       "0  1.5818 -1.1777       0.578985       0.600461      -0.4149       1.6291   \n",
       "1  1.5823 -1.1784       0.578571       0.600723      -0.4151       1.6289   \n",
       "2  1.5816 -1.1777       0.579005       0.600349      -0.4153       1.6288   \n",
       "3  1.5798 -1.1786       0.578443       0.599271      -0.4156       1.6288   \n",
       "4  1.5815 -1.1756       0.580233       0.600255      -0.4159       1.6288   \n",
       "5  1.5806 -1.1767       0.579583       0.599731      -0.4162       1.6287   \n",
       "6  1.5845 -1.1755       0.580342       0.602077      -0.4165       1.6287   \n",
       "7  1.5816 -1.1776       0.579050       0.600303      -0.4166       1.6287   \n",
       "\n",
       "   head_pose_z  head_euler_x  head_euler_y  head_euler_z  \\\n",
       "0      -1.2984        5.9192      269.0828        0.8249   \n",
       "1      -1.2984        5.9479      269.0463        0.8471   \n",
       "2      -1.2984        5.9778      269.0420        0.8650   \n",
       "3      -1.2985        6.0055      269.0371        0.8853   \n",
       "4      -1.2985        6.0035      269.0070        0.9309   \n",
       "5      -1.2986        6.0344      268.9858        0.9401   \n",
       "6      -1.2986        6.0380      268.9710        0.9319   \n",
       "7      -1.2986        6.0123      268.9588        0.9102   \n",
       "\n",
       "                  head_quat_xyzw  Eye_Right_Blink  Eye_Left_Blink  \n",
       "0  (.0311, -.7120, .0418, .7002)              0.0             0.0  \n",
       "1  (.0311, -.7123, .0422, .7000)              0.0             0.0  \n",
       "2  (.0312, -.7123, .0425, .6999)              0.0             0.0  \n",
       "3  (.0312, -.7123, .0428, .6999)              0.0             0.0  \n",
       "4  (.0309, -.7125, .0430, .6997)              0.0             0.0  \n",
       "5  (.0310, -.7126, .0433, .6995)              0.0             0.0  \n",
       "6  (.0311, -.7127, .0433, .6994)              0.0             0.0  \n",
       "7  (.0311, -.7128, .0430, .6994)              0.0             0.0  "
      ]
     },
     "execution_count": 3,
     "metadata": {},
     "output_type": "execute_result"
    }
   ],
   "source": [
    "df_et = pd.read_csv(\"Data/eyetracking.txt\", sep = \";\")\n",
    "\n",
    "print(\"Shape\", df_et.shape)\n",
    "print(\"Columns\", df_et.columns)\n",
    "df_et.head(8)"
   ]
  },
  {
   "cell_type": "code",
   "execution_count": null,
   "id": "90732d1b",
   "metadata": {},
   "outputs": [],
   "source": []
  },
  {
   "cell_type": "code",
   "execution_count": 10,
   "id": "b9de51e4",
   "metadata": {
    "ExecuteTime": {
     "end_time": "2022-09-08T16:44:21.916983Z",
     "start_time": "2022-09-08T16:44:04.985923Z"
    },
    "scrolled": true
   },
   "outputs": [
    {
     "name": "stderr",
     "output_type": "stream",
     "text": [
      "C:\\Users\\jllanes\\Desktop\\Proyectos\\VR-centred_I-DT_algorithm\\IDT_alg_VR_centred.py:105: SettingWithCopyWarning: \n",
      "A value is trying to be set on a copy of a slice from a DataFrame\n",
      "\n",
      "See the caveats in the documentation: https://pandas.pydata.org/pandas-docs/stable/user_guide/indexing.html#returning-a-view-versus-a-copy\n",
      "  data[\"class_disp\"].iloc[initial_idx:end_idx] = 0\n",
      "C:\\Users\\jllanes\\Desktop\\Proyectos\\VR-centred_I-DT_algorithm\\IDT_alg_VR_centred.py:106: SettingWithCopyWarning: \n",
      "A value is trying to be set on a copy of a slice from a DataFrame\n",
      "\n",
      "See the caveats in the documentation: https://pandas.pydata.org/pandas-docs/stable/user_guide/indexing.html#returning-a-view-versus-a-copy\n",
      "  data[\"class_disp\"].iloc[end_idx] = 1\n",
      "C:\\Users\\jllanes\\Desktop\\Proyectos\\VR-centred_I-DT_algorithm\\IDT_alg_VR_centred.py:119: SettingWithCopyWarning: \n",
      "A value is trying to be set on a copy of a slice from a DataFrame\n",
      "\n",
      "See the caveats in the documentation: https://pandas.pydata.org/pandas-docs/stable/user_guide/indexing.html#returning-a-view-versus-a-copy\n",
      "  data[\"class_disp\"].iloc[initial_idx] = 1\n",
      "C:\\Users\\jllanes\\Desktop\\Proyectos\\VR-centred_I-DT_algorithm\\IDT_alg_VR_centred.py:122: SettingWithCopyWarning: \n",
      "A value is trying to be set on a copy of a slice from a DataFrame\n",
      "\n",
      "See the caveats in the documentation: https://pandas.pydata.org/pandas-docs/stable/user_guide/indexing.html#returning-a-view-versus-a-copy\n",
      "  data[\"class_disp\"].iloc[initial_idx] = 1\n"
     ]
    },
    {
     "name": "stdout",
     "output_type": "stream",
     "text": [
      "Shape (2574, 17)\n",
      "Columns Index(['elapsedTime', 'nombre', 'et_x', 'et_y', 'et_z', 'et_pixel_uv_x',\n",
      "       'et_pixel_uv_y', 'head_pose_x', 'head_pose_y', 'head_pose_z',\n",
      "       'head_euler_x', 'head_euler_y', 'head_euler_z', 'head_quat_xyzw',\n",
      "       'Eye_Right_Blink', 'Eye_Left_Blink', 'class_disp'],\n",
      "      dtype='object')\n"
     ]
    }
   ],
   "source": [
    "idt_vr = IDTVR(numba_allow=True)\n",
    "\n",
    "t0 = time.time()\n",
    "df_et_res = idt_vr.fit_compute(df_et, time=\"elapsedTime\")\n",
    "delta_time_numba = time.time() - t0\n",
    "\n",
    "print(\"Shape\", df_et_res.shape)\n",
    "print(\"Columns\", df_et_res.columns)"
   ]
  },
  {
   "cell_type": "code",
   "execution_count": 11,
   "id": "b3a5fc12",
   "metadata": {
    "ExecuteTime": {
     "end_time": "2022-09-08T16:45:27.725750Z",
     "start_time": "2022-09-08T16:45:27.706732Z"
    }
   },
   "outputs": [
    {
     "name": "stdout",
     "output_type": "stream",
     "text": [
      "Percentage of fixations detected 72.42 %\n",
      "Percentage of saccades detected 27.58 %\n",
      "Delta time 1.6242 s\n"
     ]
    }
   ],
   "source": [
    "print(\"Percentage of fixations detected\", np.round(100 * np.mean(df_et_res[\"class_disp\"] == 0), 2), \"%\")\n",
    "print(\"Percentage of saccades detected\", np.round(100 * np.mean(df_et_res[\"class_disp\"] == 1), 2), \"%\")\n",
    "print(\"Delta time\", np.round(delta_time_numba, 4), \"s\")"
   ]
  },
  {
   "cell_type": "code",
   "execution_count": null,
   "id": "b9fef374",
   "metadata": {},
   "outputs": [],
   "source": []
  },
  {
   "cell_type": "code",
   "execution_count": 12,
   "id": "5f468151",
   "metadata": {},
   "outputs": [
    {
     "name": "stderr",
     "output_type": "stream",
     "text": [
      "C:\\Users\\jllanes\\Desktop\\Proyectos\\VR-centred_I-DT_algorithm\\IDT_alg_VR_centred.py:105: SettingWithCopyWarning: \n",
      "A value is trying to be set on a copy of a slice from a DataFrame\n",
      "\n",
      "See the caveats in the documentation: https://pandas.pydata.org/pandas-docs/stable/user_guide/indexing.html#returning-a-view-versus-a-copy\n",
      "  data[\"class_disp\"].iloc[initial_idx:end_idx] = 0\n",
      "C:\\Users\\jllanes\\Desktop\\Proyectos\\VR-centred_I-DT_algorithm\\IDT_alg_VR_centred.py:106: SettingWithCopyWarning: \n",
      "A value is trying to be set on a copy of a slice from a DataFrame\n",
      "\n",
      "See the caveats in the documentation: https://pandas.pydata.org/pandas-docs/stable/user_guide/indexing.html#returning-a-view-versus-a-copy\n",
      "  data[\"class_disp\"].iloc[end_idx] = 1\n",
      "C:\\Users\\jllanes\\Desktop\\Proyectos\\VR-centred_I-DT_algorithm\\IDT_alg_VR_centred.py:119: SettingWithCopyWarning: \n",
      "A value is trying to be set on a copy of a slice from a DataFrame\n",
      "\n",
      "See the caveats in the documentation: https://pandas.pydata.org/pandas-docs/stable/user_guide/indexing.html#returning-a-view-versus-a-copy\n",
      "  data[\"class_disp\"].iloc[initial_idx] = 1\n",
      "C:\\Users\\jllanes\\Desktop\\Proyectos\\VR-centred_I-DT_algorithm\\IDT_alg_VR_centred.py:122: SettingWithCopyWarning: \n",
      "A value is trying to be set on a copy of a slice from a DataFrame\n",
      "\n",
      "See the caveats in the documentation: https://pandas.pydata.org/pandas-docs/stable/user_guide/indexing.html#returning-a-view-versus-a-copy\n",
      "  data[\"class_disp\"].iloc[initial_idx] = 1\n",
      "C:\\Users\\jllanes\\Desktop\\Proyectos\\VR-centred_I-DT_algorithm\\IDT_alg_VR_centred.py:165: RuntimeWarning: invalid value encountered in arccos\n",
      "  result_list += list(np.arccos(np.abs(diagonal)) * (180 / np.pi))\n"
     ]
    },
    {
     "name": "stdout",
     "output_type": "stream",
     "text": [
      "Shape (2574, 17)\n",
      "Columns Index(['elapsedTime', 'nombre', 'et_x', 'et_y', 'et_z', 'et_pixel_uv_x',\n",
      "       'et_pixel_uv_y', 'head_pose_x', 'head_pose_y', 'head_pose_z',\n",
      "       'head_euler_x', 'head_euler_y', 'head_euler_z', 'head_quat_xyzw',\n",
      "       'Eye_Right_Blink', 'Eye_Left_Blink', 'class_disp'],\n",
      "      dtype='object')\n"
     ]
    }
   ],
   "source": [
    "idt_vr = IDTVR(numba_allow=False)\n",
    "\n",
    "t0 = time.time()\n",
    "df_et_res = idt_vr.fit_compute(df_et, time=\"elapsedTime\")\n",
    "delta_time_normal = time.time() - t0\n",
    "\n",
    "print(\"Shape\", df_et_res.shape)\n",
    "print(\"Columns\", df_et_res.columns)"
   ]
  },
  {
   "cell_type": "code",
   "execution_count": 13,
   "id": "ddc4595f",
   "metadata": {},
   "outputs": [
    {
     "name": "stdout",
     "output_type": "stream",
     "text": [
      "Percentage of fixations detected 72.42 %\n",
      "Percentage of saccades detected 27.58 %\n",
      "Delta time 18.499 s\n"
     ]
    }
   ],
   "source": [
    "print(\"Percentage of fixations detected\", np.round(100 * np.mean(df_et_res[\"class_disp\"] == 0), 2), \"%\")\n",
    "print(\"Percentage of saccades detected\", np.round(100 * np.mean(df_et_res[\"class_disp\"] == 1), 2), \"%\")\n",
    "print(\"Delta time\", np.round(delta_time_normal, 4), \"s\")"
   ]
  },
  {
   "cell_type": "code",
   "execution_count": null,
   "id": "fcdd90e7",
   "metadata": {},
   "outputs": [],
   "source": []
  }
 ],
 "metadata": {
  "kernelspec": {
   "display_name": "Python 3 (ipykernel)",
   "language": "python",
   "name": "python3"
  },
  "language_info": {
   "codemirror_mode": {
    "name": "ipython",
    "version": 3
   },
   "file_extension": ".py",
   "mimetype": "text/x-python",
   "name": "python",
   "nbconvert_exporter": "python",
   "pygments_lexer": "ipython3",
   "version": "3.8.7"
  },
  "latex_envs": {
   "LaTeX_envs_menu_present": true,
   "autoclose": false,
   "autocomplete": true,
   "bibliofile": "biblio.bib",
   "cite_by": "apalike",
   "current_citInitial": 1,
   "eqLabelWithNumbers": true,
   "eqNumInitial": 1,
   "hotkeys": {
    "equation": "Ctrl-E",
    "itemize": "Ctrl-I"
   },
   "labels_anchors": false,
   "latex_user_defs": false,
   "report_style_numbering": false,
   "user_envs_cfg": false
  }
 },
 "nbformat": 4,
 "nbformat_minor": 5
}
