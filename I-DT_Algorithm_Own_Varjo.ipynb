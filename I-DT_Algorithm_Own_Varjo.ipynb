{
 "cells": [
  {
   "cell_type": "code",
   "execution_count": null,
   "id": "e4d9182e",
   "metadata": {
    "ExecuteTime": {
     "end_time": "2022-09-08T16:41:41.535317Z",
     "start_time": "2022-09-08T16:41:40.829681Z"
    }
   },
   "outputs": [],
   "source": [
    "import numpy as np\n",
    "import pandas as pd\n",
    "import numba as nb\n",
    "import matplotlib.pyplot as plt\n",
    "import time\n",
    "from pathlib import Path\n",
    "from IDT_alg_VR_centred_Varjo import IDTVR"
   ]
  },
  {
   "cell_type": "code",
   "execution_count": null,
   "id": "901476a3",
   "metadata": {
    "tags": []
   },
   "outputs": [],
   "source": [
    "path = Path(\"/run/media/weiss/Elements/cl_decisions_data/3uy2Zr/2022-11-07-10h32m-CognitiveLoad-raw-et-data.csv\")\n",
    "df_et = pd.read_csv(\n",
    "    path,\n",
    "    sep=\";\",\n",
    "    encoding=\"utf-8\",\n",
    ")"
   ]
  },
  {
   "cell_type": "code",
   "execution_count": null,
   "id": "9b8c431a",
   "metadata": {},
   "outputs": [],
   "source": [
    "year = path.name.split(\"-\")[0]\n",
    "month = path.name.split(\"-\")[1]\n",
    "day = path.name.split(\"-\")[2]\n",
    "print(year, month, day)"
   ]
  },
  {
   "cell_type": "code",
   "execution_count": null,
   "id": "e6fc4bbf",
   "metadata": {},
   "outputs": [],
   "source": [
    "# fix LogTime\n",
    "df_et[\"LogDate\"] = year + \"-\" + month + \"-\" + day + \" \" + df_et[\"LogTime\"]\n",
    "df_et[\"LogDate\"] = pd.to_datetime(df_et[\"LogDate\"], format=\"%Y-%m-%d %H.%M.%S.%f\")"
   ]
  },
  {
   "cell_type": "code",
   "execution_count": null,
   "id": "fe571209",
   "metadata": {},
   "outputs": [],
   "source": [
    "# head position\n",
    "df_et[\"HMDPosition\"] = df_et[\"HMDPosition\"].str.strip(\"()\")\n",
    "df_et[[\"head_pos_x\", \"head_pos_y\", \"head_pos_z\"]] = df_et[\n",
    "    \"HMDPosition\"\n",
    "].str.split(\",\", expand=True).astype(float)"
   ]
  },
  {
   "cell_type": "code",
   "execution_count": null,
   "id": "8995ac2e",
   "metadata": {},
   "outputs": [],
   "source": [
    "# gaze vector\n",
    "df_et[\"CombinedGazeForward\"] = df_et[\"CombinedGazeForward\"].str.strip(\"()\")\n",
    "df_et[[\"et_x\", \"et_y\", \"et_z\"]] = df_et[\"CombinedGazeForward\"].str.split(\n",
    "    \",\", expand=True\n",
    ").astype(float)"
   ]
  },
  {
   "cell_type": "code",
   "execution_count": null,
   "id": "ad88acd0",
   "metadata": {},
   "outputs": [],
   "source": [
    "df_et"
   ]
  },
  {
   "cell_type": "code",
   "execution_count": null,
   "id": "70954046",
   "metadata": {},
   "outputs": [],
   "source": [
    "# convert timestamp to timedelta in seconds\n",
    "firstTimestamp = df_et.loc[0, \"LogDate\"]\n",
    "df_et[\"elapsedTime\"] = df_et[\"LogDate\"].apply(lambda x: (x - firstTimestamp).total_seconds())"
   ]
  },
  {
   "cell_type": "code",
   "execution_count": null,
   "id": "51b0fcca",
   "metadata": {},
   "outputs": [],
   "source": [
    "# calculate time_delta between two consecutive samples\n",
    "df_et[\"time_delta\"] = df_et[\"elapsedTime\"] - df_et[\"elapsedTime\"].shift(1)"
   ]
  },
  {
   "cell_type": "code",
   "execution_count": null,
   "id": "bbbeed89",
   "metadata": {},
   "outputs": [],
   "source": [
    "df = df_et[\n",
    "    [\n",
    "        \"elapsedTime\",\n",
    "        \"time_delta\",\n",
    "        \"head_pos_x\",\n",
    "        \"head_pos_y\",\n",
    "        \"head_pos_z\",\n",
    "        \"et_x\",\n",
    "        \"et_y\",\n",
    "        \"et_z\",\n",
    "        \"RightIrisDiameterInMM\",\n",
    "        \"LeftIrisDiameterInMM\",\n",
    "        \"RightPupilIrisDiameterRatio\",\n",
    "        \"LeftPupilIrisDiameterRatio\",\n",
    "        \"FocusItem\"\n",
    "    ]\n",
    "].copy()\n",
    "\n",
    "# convert pupil values to float\n",
    "for col in [ \"RightIrisDiameterInMM\",\n",
    "        \"LeftIrisDiameterInMM\",\n",
    "        \"RightPupilIrisDiameterRatio\",\n",
    "        \"LeftPupilIrisDiameterRatio\",\n",
    "]:\n",
    "    df[col] = df[col].str.replace(\",\", \".\")\n",
    "    df[col] = df[col].astype(float)\n",
    "\n",
    "print(\"Shape\", df.shape)\n",
    "print(\"Columns\", df.columns)\n",
    "df.head(5)\n"
   ]
  },
  {
   "cell_type": "code",
   "execution_count": null,
   "id": "b9de51e4",
   "metadata": {
    "ExecuteTime": {
     "end_time": "2022-09-08T16:44:21.916983Z",
     "start_time": "2022-09-08T16:44:04.985923Z"
    },
    "scrolled": true
   },
   "outputs": [],
   "source": [
    "idt_vr = IDTVR(numba_allow=True, time_th=0.1)\n",
    "\n",
    "t0 = time.time()\n",
    "df_et_res, df_et_fixations = idt_vr.fit_compute(df, time=\"elapsedTime\", debug=True)\n",
    "delta_time_numba = time.time() - t0\n",
    "\n",
    "print(\"\\n\\nfix. algo duration: \", delta_time_numba)\n",
    "df_et_fixations"
   ]
  },
  {
   "cell_type": "code",
   "execution_count": null,
   "id": "b3a5fc12",
   "metadata": {
    "ExecuteTime": {
     "end_time": "2022-09-08T16:45:27.725750Z",
     "start_time": "2022-09-08T16:45:27.706732Z"
    }
   },
   "outputs": [],
   "source": [
    "print(\n",
    "    \"Percentage of fixations detected\",\n",
    "    np.round(100 * np.mean(df_et_res[\"class_disp\"] == 0), 2),\n",
    "    \"%\",\n",
    ")\n",
    "print(\n",
    "    \"Percentage of saccades detected\",\n",
    "    np.round(100 * np.mean(df_et_res[\"class_disp\"] == 1), 2),\n",
    "    \"%\",\n",
    ")\n",
    "print(\"Delta time\", np.round(delta_time_numba, 4), \"s\")\n"
   ]
  },
  {
   "cell_type": "code",
   "execution_count": null,
   "id": "82d99ddb",
   "metadata": {},
   "outputs": [],
   "source": [
    "df_et_fixations['duration'].describe()"
   ]
  },
  {
   "cell_type": "code",
   "execution_count": null,
   "id": "35f5aa0e",
   "metadata": {},
   "outputs": [],
   "source": [
    "ivt_file = Path(\"C://Users/tbswe/data/et-data/VR/Logfiles_All/GazeData/p001_fixations.csv\")\n",
    "\n",
    "#fix enconding\n",
    "fi = ivt_file.open('rb')\n",
    "content = fi.read()\n",
    "fi.close()\n",
    "ivt_file_fixed = Path(\"C://Users/tbswe/data/et-data/VR/Logfiles_All/GazeData/p001_fixations_fixed.csv\")\n",
    "fo = ivt_file_fixed.open('wb')\n",
    "fo.write(content.replace(b'\\x00', b''))\n",
    "fo.close()\n",
    "\n",
    "df_ivt = pd.read_csv(\n",
    "    ivt_file_fixed,\n",
    "    sep=\",\",\n",
    "    encoding=\"iso-8859-1\",\n",
    ")"
   ]
  },
  {
   "cell_type": "code",
   "execution_count": null,
   "id": "b92b933b",
   "metadata": {},
   "outputs": [],
   "source": [
    "df_ivt['gazeevent_duration'].describe()"
   ]
  }
 ],
 "metadata": {
  "kernelspec": {
   "display_name": "etDocu",
   "language": "python",
   "name": "python3"
  },
  "language_info": {
   "codemirror_mode": {
    "name": "ipython",
    "version": 3
   },
   "file_extension": ".py",
   "mimetype": "text/x-python",
   "name": "python",
   "nbconvert_exporter": "python",
   "pygments_lexer": "ipython3",
   "version": "3.10.4 (main, Mar 31 2022, 08:41:55) [GCC 7.5.0]"
  },
  "latex_envs": {
   "LaTeX_envs_menu_present": true,
   "autoclose": false,
   "autocomplete": true,
   "bibliofile": "biblio.bib",
   "cite_by": "apalike",
   "current_citInitial": 1,
   "eqLabelWithNumbers": true,
   "eqNumInitial": 1,
   "hotkeys": {
    "equation": "Ctrl-E",
    "itemize": "Ctrl-I"
   },
   "labels_anchors": false,
   "latex_user_defs": false,
   "report_style_numbering": false,
   "user_envs_cfg": false
  },
  "vscode": {
   "interpreter": {
    "hash": "9bbf65ea57cc15f9a21720693c38ac0eee609a1fbbbbf6afedd65d85716c7ed4"
   }
  }
 },
 "nbformat": 4,
 "nbformat_minor": 5
}
