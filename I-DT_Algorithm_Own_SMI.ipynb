{
 "cells": [
  {
   "cell_type": "code",
   "execution_count": null,
   "id": "e4d9182e",
   "metadata": {
    "ExecuteTime": {
     "end_time": "2022-09-08T16:41:41.535317Z",
     "start_time": "2022-09-08T16:41:40.829681Z"
    }
   },
   "outputs": [],
   "source": [
    "import numpy as np\n",
    "import pandas as pd\n",
    "import numba as nb\n",
    "import matplotlib.pyplot as plt\n",
    "import time\n",
    "from pathlib import Path\n",
    "from IDT_alg_VR_centred import IDTVR"
   ]
  },
  {
   "cell_type": "code",
   "execution_count": null,
   "id": "901476a3",
   "metadata": {
    "tags": []
   },
   "outputs": [],
   "source": [
    "df_et = pd.read_csv(\n",
    "    \"./data/VR/Logfiles_All/GazeData/p001_gazelog_on_machine_GFK-VR_date2017.6.14_time8.49.52.csv\",\n",
    "    skiprows=15,\n",
    "    sep=\";\",\n",
    "    encoding=\"utf-8\",\n",
    ")\n",
    "\n",
    "# head pose\n",
    "df_et[[\"head_pos_x\", \"head_pos_y\", \"head_pos_z\"]] = df_et[\n",
    "    \"head_pos\"\n",
    "].str.split(\",\", expand=True)\n",
    "\n",
    "# gaze vector\n",
    "df_et[[\"et_x\", \"et_y\", \"et_z\"]] = df_et[\"bino_hitObject_pos\"].str.split(\n",
    "    \",\", expand=True\n",
    ")\n",
    "\n",
    "# POR\n",
    "df_et[[\"POR X\", \"POR Y\"]] = df_et[\"smi_bino_por\"].str.split(\n",
    "    \",\", expand=True\n",
    ")\n",
    "\n",
    "# fix timestamp\n",
    "firstTimestamp = df_et.loc[0, \"#timestamp_unity\"]\n",
    "df_et[\"elapsedTime\"] = df_et[\"#timestamp_unity\"] - firstTimestamp\n",
    "\n",
    "print(\"Shape\", df_et.shape)\n",
    "print(\"Columns\", df_et.columns)\n",
    "df_et.head(8)"
   ]
  },
  {
   "cell_type": "code",
   "execution_count": null,
   "id": "a7ed42cf",
   "metadata": {},
   "outputs": [],
   "source": [
    "df_et = df_et[\n",
    "    [\n",
    "        \"head_pos_x\",\n",
    "        \"head_pos_y\",\n",
    "        \"head_pos_z\",\n",
    "        \"et_x\",\n",
    "        \"et_y\",\n",
    "        \"et_z\",\n",
    "        \"POR X\",\n",
    "        \"POR Y\",\n",
    "        \"elapsedTime\",\n",
    "        \"bino_hitObject\",\n",
    "        \"bino_hitObject_Feature\",\n",
    "    ]\n",
    "]\n",
    "\n",
    "# cast columns to float (except the last 3)\n",
    "df_et[df_et.columns[:-3]] = df_et[df_et.columns[:-3]].astype(float)\n",
    "\n",
    "# calculate time for seach sample\n",
    "df_et[\"time_delta\"] = df_et[\"elapsedTime\"] - df_et[\"elapsedTime\"].shift(1)\n",
    "\n",
    "print(\"Shape\", df_et.shape)\n",
    "print(\"Columns\", df_et.columns)\n",
    "\n",
    "df_et.head(8)"
   ]
  },
  {
   "cell_type": "code",
   "execution_count": null,
   "id": "b9de51e4",
   "metadata": {
    "ExecuteTime": {
     "end_time": "2022-09-08T16:44:21.916983Z",
     "start_time": "2022-09-08T16:44:04.985923Z"
    },
    "scrolled": true
   },
   "outputs": [],
   "source": [
    "idt_vr = IDTVR(numba_allow=True, time_th=0.1)\n",
    "\n",
    "t0 = time.time()\n",
    "df_et_res, df_et_fixations = idt_vr.fit_compute(df_et, time=\"elapsedTime\", debug=True)\n",
    "delta_time_numba = time.time() - t0\n",
    "\n",
    "df_et_fixations"
   ]
  },
  {
   "cell_type": "code",
   "execution_count": null,
   "id": "b3a5fc12",
   "metadata": {
    "ExecuteTime": {
     "end_time": "2022-09-08T16:45:27.725750Z",
     "start_time": "2022-09-08T16:45:27.706732Z"
    }
   },
   "outputs": [],
   "source": [
    "print(\n",
    "    \"Percentage of fixations detected\",\n",
    "    np.round(100 * np.mean(df_et_res[\"class_disp\"] == 0), 2),\n",
    "    \"%\",\n",
    ")\n",
    "print(\n",
    "    \"Percentage of saccades detected\",\n",
    "    np.round(100 * np.mean(df_et_res[\"class_disp\"] == 1), 2),\n",
    "    \"%\",\n",
    ")\n",
    "print(\"Delta time\", np.round(delta_time_numba, 4), \"s\")\n"
   ]
  },
  {
   "cell_type": "code",
   "execution_count": null,
   "id": "82d99ddb",
   "metadata": {},
   "outputs": [],
   "source": [
    "df_et_fixations['duration'].describe()"
   ]
  },
  {
   "cell_type": "code",
   "execution_count": null,
   "id": "35f5aa0e",
   "metadata": {},
   "outputs": [],
   "source": [
    "ivt_file = Path(\"C://Users/tbswe/data/et-data/VR/Logfiles_All/GazeData/p001_fixations.csv\")\n",
    "\n",
    "#fix enconding\n",
    "fi = ivt_file.open('rb')\n",
    "content = fi.read()\n",
    "fi.close()\n",
    "ivt_file_fixed = Path(\"C://Users/tbswe/data/et-data/VR/Logfiles_All/GazeData/p001_fixations_fixed.csv\")\n",
    "fo = ivt_file_fixed.open('wb')\n",
    "fo.write(content.replace(b'\\x00', b''))\n",
    "fo.close()\n",
    "\n",
    "df_ivt = pd.read_csv(\n",
    "    ivt_file_fixed,\n",
    "    sep=\",\",\n",
    "    encoding=\"iso-8859-1\",\n",
    ")"
   ]
  },
  {
   "cell_type": "code",
   "execution_count": null,
   "id": "b92b933b",
   "metadata": {},
   "outputs": [],
   "source": [
    "df_ivt['gazeevent_duration'].describe()"
   ]
  }
 ],
 "metadata": {
  "kernelspec": {
   "display_name": "Python 3",
   "language": "python",
   "name": "python3"
  },
  "language_info": {
   "codemirror_mode": {
    "name": "ipython",
    "version": 3
   },
   "file_extension": ".py",
   "mimetype": "text/x-python",
   "name": "python",
   "nbconvert_exporter": "python",
   "pygments_lexer": "ipython3",
   "version": "3.8.13 (default, Oct  6 2022, 23:47:50) \n[GCC 12.2.0]"
  },
  "latex_envs": {
   "LaTeX_envs_menu_present": true,
   "autoclose": false,
   "autocomplete": true,
   "bibliofile": "biblio.bib",
   "cite_by": "apalike",
   "current_citInitial": 1,
   "eqLabelWithNumbers": true,
   "eqNumInitial": 1,
   "hotkeys": {
    "equation": "Ctrl-E",
    "itemize": "Ctrl-I"
   },
   "labels_anchors": false,
   "latex_user_defs": false,
   "report_style_numbering": false,
   "user_envs_cfg": false
  },
  "vscode": {
   "interpreter": {
    "hash": "67c54f89f216eed843a29335998c58a11e1a41cfc4c477025d2041ef4ef9dc6a"
   }
  }
 },
 "nbformat": 4,
 "nbformat_minor": 5
}
